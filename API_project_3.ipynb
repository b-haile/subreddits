{
 "cells": [
  {
   "cell_type": "markdown",
   "metadata": {},
   "source": [
    "## Loading Libraries & Data"
   ]
  },
  {
   "cell_type": "code",
   "execution_count": 2,
   "metadata": {},
   "outputs": [],
   "source": [
    "import pandas as pd\n",
    "import numpy as np\n",
    "import datetime as dt\n",
    "import time\n",
    "import requests\n",
    "import matplotlib.pyplot as plt\n",
    "import seaborn as sns\n",
    "from sklearn.linear_model import LogisticRegression\n",
    "from sklearn.model_selection import train_test_split, cross_val_score\n",
    "from sklearn.model_selection import GridSearchCV, train_test_split, cross_val_score\n",
    "from sklearn.pipeline import Pipeline\n",
    "from sklearn.feature_extraction.text import CountVectorizer, TfidfVectorizer\n",
    "from sklearn.naive_bayes import GaussianNB\n",
    "from sklearn.preprocessing import StandardScaler\n",
    "from sklearn.ensemble import RandomForestClassifier, ExtraTreesClassifier\n",
    "\n",
    "%matplotlib inline"
   ]
  },
  {
   "cell_type": "markdown",
   "metadata": {},
   "source": [
    "### Collecting Data via Web API and Creating a Dataframe"
   ]
  },
  {
   "cell_type": "code",
   "execution_count": 3,
   "metadata": {},
   "outputs": [],
   "source": [
    "def query_pushshift(subreddit, kind = 'submission', day_window = 30, n = 5): # Code from Mahdi\n",
    "    SUBFIELDS = ['title', 'selftext', 'subreddit', 'created_utc', 'author', 'num_comments', 'score', 'is_self']\n",
    "    \n",
    "    # establish base url and stem\n",
    "    BASE_URL = f\"https://api.pushshift.io/reddit/search/{kind}\" # also known as the \"API endpoint\" \n",
    "    stem = f\"{BASE_URL}?subreddit={subreddit}&size=500\" # always pulling max of 500\n",
    "    \n",
    "    # instantiate empty list for temp storage\n",
    "    posts = []\n",
    "    \n",
    "    # implement for loop with `time.sleep(2)`\n",
    "    for i in range(1, n + 1):\n",
    "        URL = \"{}&after={}d\".format(stem, day_window * i)\n",
    "        print(\"Querying from: \" + URL)\n",
    "        response = requests.get(URL)\n",
    "        assert response.status_code == 200\n",
    "        mine = response.json()['data']\n",
    "        df = pd.DataFrame.from_dict(mine)\n",
    "        posts.append(df)\n",
    "        time.sleep(2)\n",
    "    \n",
    "    # pd.concat storage list\n",
    "    full = pd.concat(posts, sort=False)\n",
    "    \n",
    "    # if submission\n",
    "    if kind == \"submission\":\n",
    "        # select desired columns\n",
    "        full = full[SUBFIELDS]\n",
    "        # drop duplicates\n",
    "        full.drop_duplicates(inplace = True)\n",
    "        # select `is_self` == True\n",
    "        full = full.loc[full['is_self'] == True]\n",
    "\n",
    "    # create `timestamp` column\n",
    "    full['timestamp'] = full[\"created_utc\"].map(dt.date.fromtimestamp)\n",
    "    \n",
    "    print(\"Query Complete!\")    \n",
    "    return full "
   ]
  },
  {
   "cell_type": "code",
   "execution_count": 4,
   "metadata": {},
   "outputs": [
    {
     "name": "stdout",
     "output_type": "stream",
     "text": [
      "Querying from: https://api.pushshift.io/reddit/search/submission?subreddit=TwoBestFriendsPlay&size=500&after=30d\n",
      "Querying from: https://api.pushshift.io/reddit/search/submission?subreddit=TwoBestFriendsPlay&size=500&after=60d\n",
      "Querying from: https://api.pushshift.io/reddit/search/submission?subreddit=TwoBestFriendsPlay&size=500&after=90d\n",
      "Querying from: https://api.pushshift.io/reddit/search/submission?subreddit=TwoBestFriendsPlay&size=500&after=120d\n",
      "Querying from: https://api.pushshift.io/reddit/search/submission?subreddit=TwoBestFriendsPlay&size=500&after=150d\n",
      "Querying from: https://api.pushshift.io/reddit/search/submission?subreddit=TwoBestFriendsPlay&size=500&after=180d\n",
      "Querying from: https://api.pushshift.io/reddit/search/submission?subreddit=TwoBestFriendsPlay&size=500&after=210d\n",
      "Querying from: https://api.pushshift.io/reddit/search/submission?subreddit=TwoBestFriendsPlay&size=500&after=240d\n",
      "Querying from: https://api.pushshift.io/reddit/search/submission?subreddit=TwoBestFriendsPlay&size=500&after=270d\n",
      "Querying from: https://api.pushshift.io/reddit/search/submission?subreddit=TwoBestFriendsPlay&size=500&after=300d\n",
      "Querying from: https://api.pushshift.io/reddit/search/submission?subreddit=TwoBestFriendsPlay&size=500&after=330d\n",
      "Query Complete!\n"
     ]
    }
   ],
   "source": [
    "csb = query_pushshift('TwoBestFriendsPlay', kind='submission', day_window = 30, n = 11)"
   ]
  },
  {
   "cell_type": "code",
   "execution_count": 5,
   "metadata": {},
   "outputs": [
    {
     "data": {
      "text/plain": [
       "(1164, 9)"
      ]
     },
     "execution_count": 5,
     "metadata": {},
     "output_type": "execute_result"
    }
   ],
   "source": [
    "csb.shape"
   ]
  },
  {
   "cell_type": "code",
   "execution_count": 6,
   "metadata": {},
   "outputs": [
    {
     "data": {
      "text/html": [
       "<div>\n",
       "<style scoped>\n",
       "    .dataframe tbody tr th:only-of-type {\n",
       "        vertical-align: middle;\n",
       "    }\n",
       "\n",
       "    .dataframe tbody tr th {\n",
       "        vertical-align: top;\n",
       "    }\n",
       "\n",
       "    .dataframe thead th {\n",
       "        text-align: right;\n",
       "    }\n",
       "</style>\n",
       "<table border=\"1\" class=\"dataframe\">\n",
       "  <thead>\n",
       "    <tr style=\"text-align: right;\">\n",
       "      <th></th>\n",
       "      <th>title</th>\n",
       "      <th>selftext</th>\n",
       "      <th>subreddit</th>\n",
       "      <th>created_utc</th>\n",
       "      <th>author</th>\n",
       "      <th>num_comments</th>\n",
       "      <th>score</th>\n",
       "      <th>is_self</th>\n",
       "      <th>timestamp</th>\n",
       "    </tr>\n",
       "  </thead>\n",
       "  <tbody>\n",
       "    <tr>\n",
       "      <th>0</th>\n",
       "      <td>Hard and Soft canon</td>\n",
       "      <td>Resident Evil isnt the only capcom game that r...</td>\n",
       "      <td>TwoBestFriendsPlay</td>\n",
       "      <td>1577905719</td>\n",
       "      <td>SuperUnhappyman</td>\n",
       "      <td>19</td>\n",
       "      <td>1</td>\n",
       "      <td>True</td>\n",
       "      <td>2020-01-01</td>\n",
       "    </tr>\n",
       "    <tr>\n",
       "      <th>14</th>\n",
       "      <td>What are some games with good first-person mel...</td>\n",
       "      <td>I'm not talking hitting someone with a gun typ...</td>\n",
       "      <td>TwoBestFriendsPlay</td>\n",
       "      <td>1577912961</td>\n",
       "      <td>GoodVillain101</td>\n",
       "      <td>62</td>\n",
       "      <td>1</td>\n",
       "      <td>True</td>\n",
       "      <td>2020-01-01</td>\n",
       "    </tr>\n",
       "    <tr>\n",
       "      <th>18</th>\n",
       "      <td>How to Completely Retrain Yourself in Fighting...</td>\n",
       "      <td>Ok so I've been asking for some advice now and...</td>\n",
       "      <td>TwoBestFriendsPlay</td>\n",
       "      <td>1577914380</td>\n",
       "      <td>redwill1001</td>\n",
       "      <td>16</td>\n",
       "      <td>1</td>\n",
       "      <td>True</td>\n",
       "      <td>2020-01-01</td>\n",
       "    </tr>\n",
       "    <tr>\n",
       "      <th>22</th>\n",
       "      <td>What are some games you would love an in depth...</td>\n",
       "      <td>Example 1: Resident evil 0 was originally a N6...</td>\n",
       "      <td>TwoBestFriendsPlay</td>\n",
       "      <td>1577919099</td>\n",
       "      <td>dope_danny</td>\n",
       "      <td>46</td>\n",
       "      <td>1</td>\n",
       "      <td>True</td>\n",
       "      <td>2020-01-01</td>\n",
       "    </tr>\n",
       "    <tr>\n",
       "      <th>28</th>\n",
       "      <td>Star Wars Prequel Trilogy vs New Trilogy</td>\n",
       "      <td>After finally seeing Rise of Skywalker a littl...</td>\n",
       "      <td>TwoBestFriendsPlay</td>\n",
       "      <td>1577922063</td>\n",
       "      <td>bassmanchris95</td>\n",
       "      <td>50</td>\n",
       "      <td>1</td>\n",
       "      <td>True</td>\n",
       "      <td>2020-01-01</td>\n",
       "    </tr>\n",
       "  </tbody>\n",
       "</table>\n",
       "</div>"
      ],
      "text/plain": [
       "                                                title  \\\n",
       "0                                 Hard and Soft canon   \n",
       "14  What are some games with good first-person mel...   \n",
       "18  How to Completely Retrain Yourself in Fighting...   \n",
       "22  What are some games you would love an in depth...   \n",
       "28           Star Wars Prequel Trilogy vs New Trilogy   \n",
       "\n",
       "                                             selftext           subreddit  \\\n",
       "0   Resident Evil isnt the only capcom game that r...  TwoBestFriendsPlay   \n",
       "14  I'm not talking hitting someone with a gun typ...  TwoBestFriendsPlay   \n",
       "18  Ok so I've been asking for some advice now and...  TwoBestFriendsPlay   \n",
       "22  Example 1: Resident evil 0 was originally a N6...  TwoBestFriendsPlay   \n",
       "28  After finally seeing Rise of Skywalker a littl...  TwoBestFriendsPlay   \n",
       "\n",
       "    created_utc           author  num_comments  score  is_self   timestamp  \n",
       "0    1577905719  SuperUnhappyman            19      1     True  2020-01-01  \n",
       "14   1577912961   GoodVillain101            62      1     True  2020-01-01  \n",
       "18   1577914380      redwill1001            16      1     True  2020-01-01  \n",
       "22   1577919099       dope_danny            46      1     True  2020-01-01  \n",
       "28   1577922063   bassmanchris95            50      1     True  2020-01-01  "
      ]
     },
     "execution_count": 6,
     "metadata": {},
     "output_type": "execute_result"
    }
   ],
   "source": [
    "csb.head()"
   ]
  },
  {
   "cell_type": "code",
   "execution_count": 7,
   "metadata": {},
   "outputs": [
    {
     "name": "stdout",
     "output_type": "stream",
     "text": [
      "Querying from: https://api.pushshift.io/reddit/search/submission?subreddit=roosterteeth&size=500&after=15d\n",
      "Querying from: https://api.pushshift.io/reddit/search/submission?subreddit=roosterteeth&size=500&after=30d\n",
      "Querying from: https://api.pushshift.io/reddit/search/submission?subreddit=roosterteeth&size=500&after=45d\n",
      "Querying from: https://api.pushshift.io/reddit/search/submission?subreddit=roosterteeth&size=500&after=60d\n",
      "Querying from: https://api.pushshift.io/reddit/search/submission?subreddit=roosterteeth&size=500&after=75d\n",
      "Querying from: https://api.pushshift.io/reddit/search/submission?subreddit=roosterteeth&size=500&after=90d\n",
      "Querying from: https://api.pushshift.io/reddit/search/submission?subreddit=roosterteeth&size=500&after=105d\n",
      "Query Complete!\n"
     ]
    }
   ],
   "source": [
    "rt = query_pushshift('roosterteeth', kind='submission', day_window = 15, n = 7)"
   ]
  },
  {
   "cell_type": "code",
   "execution_count": 8,
   "metadata": {},
   "outputs": [
    {
     "data": {
      "text/plain": [
       "(1211, 9)"
      ]
     },
     "execution_count": 8,
     "metadata": {},
     "output_type": "execute_result"
    }
   ],
   "source": [
    "rt.shape"
   ]
  },
  {
   "cell_type": "code",
   "execution_count": 9,
   "metadata": {},
   "outputs": [
    {
     "data": {
      "text/html": [
       "<div>\n",
       "<style scoped>\n",
       "    .dataframe tbody tr th:only-of-type {\n",
       "        vertical-align: middle;\n",
       "    }\n",
       "\n",
       "    .dataframe tbody tr th {\n",
       "        vertical-align: top;\n",
       "    }\n",
       "\n",
       "    .dataframe thead th {\n",
       "        text-align: right;\n",
       "    }\n",
       "</style>\n",
       "<table border=\"1\" class=\"dataframe\">\n",
       "  <thead>\n",
       "    <tr style=\"text-align: right;\">\n",
       "      <th></th>\n",
       "      <th>title</th>\n",
       "      <th>selftext</th>\n",
       "      <th>subreddit</th>\n",
       "      <th>created_utc</th>\n",
       "      <th>author</th>\n",
       "      <th>num_comments</th>\n",
       "      <th>score</th>\n",
       "      <th>is_self</th>\n",
       "      <th>timestamp</th>\n",
       "    </tr>\n",
       "  </thead>\n",
       "  <tbody>\n",
       "    <tr>\n",
       "      <th>0</th>\n",
       "      <td>Off Topic Livestream Discussion Thread</td>\n",
       "      <td>#[Click Here To Watch The Livestream](http://r...</td>\n",
       "      <td>roosterteeth</td>\n",
       "      <td>1579202939</td>\n",
       "      <td>AutoModerator</td>\n",
       "      <td>4</td>\n",
       "      <td>1</td>\n",
       "      <td>True</td>\n",
       "      <td>2020-01-16</td>\n",
       "    </tr>\n",
       "    <tr>\n",
       "      <th>13</th>\n",
       "      <td>RT iPhone app issue</td>\n",
       "      <td>Is anyone else having an issue with downloaded...</td>\n",
       "      <td>roosterteeth</td>\n",
       "      <td>1579242644</td>\n",
       "      <td>workingthesystem</td>\n",
       "      <td>2</td>\n",
       "      <td>1</td>\n",
       "      <td>True</td>\n",
       "      <td>2020-01-17</td>\n",
       "    </tr>\n",
       "    <tr>\n",
       "      <th>16</th>\n",
       "      <td>Why is Joel not on the RT Podcast anymore?</td>\n",
       "      <td>He is probably my favorite cast member on the ...</td>\n",
       "      <td>roosterteeth</td>\n",
       "      <td>1579269479</td>\n",
       "      <td>Bandit_Ke1th</td>\n",
       "      <td>12</td>\n",
       "      <td>1</td>\n",
       "      <td>True</td>\n",
       "      <td>2020-01-17</td>\n",
       "    </tr>\n",
       "    <tr>\n",
       "      <th>23</th>\n",
       "      <td>Million dollars, but...</td>\n",
       "      <td>Million dollars, but... Every time you spoke o...</td>\n",
       "      <td>roosterteeth</td>\n",
       "      <td>1579273812</td>\n",
       "      <td>Beigeun</td>\n",
       "      <td>6</td>\n",
       "      <td>1</td>\n",
       "      <td>True</td>\n",
       "      <td>2020-01-17</td>\n",
       "    </tr>\n",
       "    <tr>\n",
       "      <th>24</th>\n",
       "      <td>Looking for source: Story of Michael yelling a...</td>\n",
       "      <td>I remember a story from a podcast about Michae...</td>\n",
       "      <td>roosterteeth</td>\n",
       "      <td>1579279419</td>\n",
       "      <td>thoughtless447</td>\n",
       "      <td>3</td>\n",
       "      <td>1</td>\n",
       "      <td>True</td>\n",
       "      <td>2020-01-17</td>\n",
       "    </tr>\n",
       "  </tbody>\n",
       "</table>\n",
       "</div>"
      ],
      "text/plain": [
       "                                                title  \\\n",
       "0              Off Topic Livestream Discussion Thread   \n",
       "13                                RT iPhone app issue   \n",
       "16         Why is Joel not on the RT Podcast anymore?   \n",
       "23                            Million dollars, but...   \n",
       "24  Looking for source: Story of Michael yelling a...   \n",
       "\n",
       "                                             selftext     subreddit  \\\n",
       "0   #[Click Here To Watch The Livestream](http://r...  roosterteeth   \n",
       "13  Is anyone else having an issue with downloaded...  roosterteeth   \n",
       "16  He is probably my favorite cast member on the ...  roosterteeth   \n",
       "23  Million dollars, but... Every time you spoke o...  roosterteeth   \n",
       "24  I remember a story from a podcast about Michae...  roosterteeth   \n",
       "\n",
       "    created_utc            author  num_comments  score  is_self   timestamp  \n",
       "0    1579202939     AutoModerator             4      1     True  2020-01-16  \n",
       "13   1579242644  workingthesystem             2      1     True  2020-01-17  \n",
       "16   1579269479      Bandit_Ke1th            12      1     True  2020-01-17  \n",
       "23   1579273812           Beigeun             6      1     True  2020-01-17  \n",
       "24   1579279419    thoughtless447             3      1     True  2020-01-17  "
      ]
     },
     "execution_count": 9,
     "metadata": {},
     "output_type": "execute_result"
    }
   ],
   "source": [
    "rt.head()"
   ]
  },
  {
   "cell_type": "code",
   "execution_count": 10,
   "metadata": {},
   "outputs": [
    {
     "data": {
      "text/html": [
       "<div>\n",
       "<style scoped>\n",
       "    .dataframe tbody tr th:only-of-type {\n",
       "        vertical-align: middle;\n",
       "    }\n",
       "\n",
       "    .dataframe tbody tr th {\n",
       "        vertical-align: top;\n",
       "    }\n",
       "\n",
       "    .dataframe thead th {\n",
       "        text-align: right;\n",
       "    }\n",
       "</style>\n",
       "<table border=\"1\" class=\"dataframe\">\n",
       "  <thead>\n",
       "    <tr style=\"text-align: right;\">\n",
       "      <th></th>\n",
       "      <th>title</th>\n",
       "      <th>selftext</th>\n",
       "      <th>subreddit</th>\n",
       "      <th>created_utc</th>\n",
       "      <th>author</th>\n",
       "      <th>num_comments</th>\n",
       "      <th>score</th>\n",
       "      <th>is_self</th>\n",
       "      <th>timestamp</th>\n",
       "    </tr>\n",
       "  </thead>\n",
       "  <tbody>\n",
       "    <tr>\n",
       "      <th>0</th>\n",
       "      <td>Hard and Soft canon</td>\n",
       "      <td>Resident Evil isnt the only capcom game that r...</td>\n",
       "      <td>TwoBestFriendsPlay</td>\n",
       "      <td>1577905719</td>\n",
       "      <td>SuperUnhappyman</td>\n",
       "      <td>19</td>\n",
       "      <td>1</td>\n",
       "      <td>True</td>\n",
       "      <td>2020-01-01</td>\n",
       "    </tr>\n",
       "    <tr>\n",
       "      <th>1</th>\n",
       "      <td>What are some games with good first-person mel...</td>\n",
       "      <td>I'm not talking hitting someone with a gun typ...</td>\n",
       "      <td>TwoBestFriendsPlay</td>\n",
       "      <td>1577912961</td>\n",
       "      <td>GoodVillain101</td>\n",
       "      <td>62</td>\n",
       "      <td>1</td>\n",
       "      <td>True</td>\n",
       "      <td>2020-01-01</td>\n",
       "    </tr>\n",
       "    <tr>\n",
       "      <th>2</th>\n",
       "      <td>How to Completely Retrain Yourself in Fighting...</td>\n",
       "      <td>Ok so I've been asking for some advice now and...</td>\n",
       "      <td>TwoBestFriendsPlay</td>\n",
       "      <td>1577914380</td>\n",
       "      <td>redwill1001</td>\n",
       "      <td>16</td>\n",
       "      <td>1</td>\n",
       "      <td>True</td>\n",
       "      <td>2020-01-01</td>\n",
       "    </tr>\n",
       "    <tr>\n",
       "      <th>3</th>\n",
       "      <td>What are some games you would love an in depth...</td>\n",
       "      <td>Example 1: Resident evil 0 was originally a N6...</td>\n",
       "      <td>TwoBestFriendsPlay</td>\n",
       "      <td>1577919099</td>\n",
       "      <td>dope_danny</td>\n",
       "      <td>46</td>\n",
       "      <td>1</td>\n",
       "      <td>True</td>\n",
       "      <td>2020-01-01</td>\n",
       "    </tr>\n",
       "    <tr>\n",
       "      <th>4</th>\n",
       "      <td>Star Wars Prequel Trilogy vs New Trilogy</td>\n",
       "      <td>After finally seeing Rise of Skywalker a littl...</td>\n",
       "      <td>TwoBestFriendsPlay</td>\n",
       "      <td>1577922063</td>\n",
       "      <td>bassmanchris95</td>\n",
       "      <td>50</td>\n",
       "      <td>1</td>\n",
       "      <td>True</td>\n",
       "      <td>2020-01-01</td>\n",
       "    </tr>\n",
       "    <tr>\n",
       "      <th>...</th>\n",
       "      <td>...</td>\n",
       "      <td>...</td>\n",
       "      <td>...</td>\n",
       "      <td>...</td>\n",
       "      <td>...</td>\n",
       "      <td>...</td>\n",
       "      <td>...</td>\n",
       "      <td>...</td>\n",
       "      <td>...</td>\n",
       "    </tr>\n",
       "    <tr>\n",
       "      <th>2370</th>\n",
       "      <td>Thought I saw a RWBY reference in Doctor Sleep...</td>\n",
       "      <td>Got to see Doctor Sleep last night and may hav...</td>\n",
       "      <td>roosterteeth</td>\n",
       "      <td>1572551927</td>\n",
       "      <td>rabidstu3</td>\n",
       "      <td>6</td>\n",
       "      <td>3</td>\n",
       "      <td>True</td>\n",
       "      <td>2019-10-31</td>\n",
       "    </tr>\n",
       "    <tr>\n",
       "      <th>2371</th>\n",
       "      <td>Is there any way to find out who's in a specif...</td>\n",
       "      <td>[removed]</td>\n",
       "      <td>roosterteeth</td>\n",
       "      <td>1572555130</td>\n",
       "      <td>gditbarb</td>\n",
       "      <td>0</td>\n",
       "      <td>1</td>\n",
       "      <td>True</td>\n",
       "      <td>2019-10-31</td>\n",
       "    </tr>\n",
       "    <tr>\n",
       "      <th>2372</th>\n",
       "      <td>I speculate that #Teamtrees and all the donati...</td>\n",
       "      <td>These are just my thoughts and I truly hope I ...</td>\n",
       "      <td>roosterteeth</td>\n",
       "      <td>1572558705</td>\n",
       "      <td>TrapCardLol</td>\n",
       "      <td>10</td>\n",
       "      <td>0</td>\n",
       "      <td>True</td>\n",
       "      <td>2019-10-31</td>\n",
       "    </tr>\n",
       "    <tr>\n",
       "      <th>2373</th>\n",
       "      <td>[No Spoliers] RWBY Posters in Doctor Sleep</td>\n",
       "      <td>Just saw Doctor Sleep. No spoilers, thought it...</td>\n",
       "      <td>roosterteeth</td>\n",
       "      <td>1572565161</td>\n",
       "      <td>octopus-god</td>\n",
       "      <td>5</td>\n",
       "      <td>12</td>\n",
       "      <td>True</td>\n",
       "      <td>2019-10-31</td>\n",
       "    </tr>\n",
       "    <tr>\n",
       "      <th>2374</th>\n",
       "      <td>Man of Medan</td>\n",
       "      <td>Hey rooster teeth, are you planning on doing m...</td>\n",
       "      <td>roosterteeth</td>\n",
       "      <td>1572565441</td>\n",
       "      <td>jo3keelo</td>\n",
       "      <td>17</td>\n",
       "      <td>43</td>\n",
       "      <td>True</td>\n",
       "      <td>2019-10-31</td>\n",
       "    </tr>\n",
       "  </tbody>\n",
       "</table>\n",
       "<p>2375 rows × 9 columns</p>\n",
       "</div>"
      ],
      "text/plain": [
       "                                                  title  \\\n",
       "0                                   Hard and Soft canon   \n",
       "1     What are some games with good first-person mel...   \n",
       "2     How to Completely Retrain Yourself in Fighting...   \n",
       "3     What are some games you would love an in depth...   \n",
       "4              Star Wars Prequel Trilogy vs New Trilogy   \n",
       "...                                                 ...   \n",
       "2370  Thought I saw a RWBY reference in Doctor Sleep...   \n",
       "2371  Is there any way to find out who's in a specif...   \n",
       "2372  I speculate that #Teamtrees and all the donati...   \n",
       "2373         [No Spoliers] RWBY Posters in Doctor Sleep   \n",
       "2374                                       Man of Medan   \n",
       "\n",
       "                                               selftext           subreddit  \\\n",
       "0     Resident Evil isnt the only capcom game that r...  TwoBestFriendsPlay   \n",
       "1     I'm not talking hitting someone with a gun typ...  TwoBestFriendsPlay   \n",
       "2     Ok so I've been asking for some advice now and...  TwoBestFriendsPlay   \n",
       "3     Example 1: Resident evil 0 was originally a N6...  TwoBestFriendsPlay   \n",
       "4     After finally seeing Rise of Skywalker a littl...  TwoBestFriendsPlay   \n",
       "...                                                 ...                 ...   \n",
       "2370  Got to see Doctor Sleep last night and may hav...        roosterteeth   \n",
       "2371                                          [removed]        roosterteeth   \n",
       "2372  These are just my thoughts and I truly hope I ...        roosterteeth   \n",
       "2373  Just saw Doctor Sleep. No spoilers, thought it...        roosterteeth   \n",
       "2374  Hey rooster teeth, are you planning on doing m...        roosterteeth   \n",
       "\n",
       "      created_utc           author  num_comments  score  is_self   timestamp  \n",
       "0      1577905719  SuperUnhappyman            19      1     True  2020-01-01  \n",
       "1      1577912961   GoodVillain101            62      1     True  2020-01-01  \n",
       "2      1577914380      redwill1001            16      1     True  2020-01-01  \n",
       "3      1577919099       dope_danny            46      1     True  2020-01-01  \n",
       "4      1577922063   bassmanchris95            50      1     True  2020-01-01  \n",
       "...           ...              ...           ...    ...      ...         ...  \n",
       "2370   1572551927        rabidstu3             6      3     True  2019-10-31  \n",
       "2371   1572555130         gditbarb             0      1     True  2019-10-31  \n",
       "2372   1572558705      TrapCardLol            10      0     True  2019-10-31  \n",
       "2373   1572565161      octopus-god             5     12     True  2019-10-31  \n",
       "2374   1572565441         jo3keelo            17     43     True  2019-10-31  \n",
       "\n",
       "[2375 rows x 9 columns]"
      ]
     },
     "execution_count": 10,
     "metadata": {},
     "output_type": "execute_result"
    }
   ],
   "source": [
    "data = pd.concat([csb, rt], sort = False)\n",
    "data.reset_index(drop=True)"
   ]
  },
  {
   "cell_type": "markdown",
   "metadata": {},
   "source": [
    "## Data Cleaning"
   ]
  },
  {
   "cell_type": "code",
   "execution_count": 11,
   "metadata": {},
   "outputs": [
    {
     "data": {
      "text/plain": [
       "title           0\n",
       "selftext        1\n",
       "subreddit       0\n",
       "created_utc     0\n",
       "author          0\n",
       "num_comments    0\n",
       "score           0\n",
       "is_self         0\n",
       "timestamp       0\n",
       "dtype: int64"
      ]
     },
     "execution_count": 11,
     "metadata": {},
     "output_type": "execute_result"
    }
   ],
   "source": [
    "data.isnull().sum()"
   ]
  },
  {
   "cell_type": "code",
   "execution_count": 12,
   "metadata": {},
   "outputs": [],
   "source": [
    "data[data['selftext'].isnull()]\n",
    "data.drop(axis=0, index=125, inplace=True)"
   ]
  },
  {
   "cell_type": "code",
   "execution_count": 13,
   "metadata": {
    "scrolled": true
   },
   "outputs": [
    {
     "data": {
      "text/plain": [
       "title           0\n",
       "selftext        1\n",
       "subreddit       0\n",
       "created_utc     0\n",
       "author          0\n",
       "num_comments    0\n",
       "score           0\n",
       "is_self         0\n",
       "timestamp       0\n",
       "dtype: int64"
      ]
     },
     "execution_count": 13,
     "metadata": {},
     "output_type": "execute_result"
    }
   ],
   "source": [
    "data.isnull().sum()"
   ]
  },
  {
   "cell_type": "code",
   "execution_count": 14,
   "metadata": {},
   "outputs": [
    {
     "data": {
      "text/plain": [
       "title           object\n",
       "selftext        object\n",
       "subreddit       object\n",
       "created_utc      int64\n",
       "author          object\n",
       "num_comments     int64\n",
       "score            int64\n",
       "is_self           bool\n",
       "timestamp       object\n",
       "dtype: object"
      ]
     },
     "execution_count": 14,
     "metadata": {},
     "output_type": "execute_result"
    }
   ],
   "source": [
    "data.dtypes"
   ]
  },
  {
   "cell_type": "code",
   "execution_count": 15,
   "metadata": {},
   "outputs": [
    {
     "data": {
      "text/html": [
       "<div>\n",
       "<style scoped>\n",
       "    .dataframe tbody tr th:only-of-type {\n",
       "        vertical-align: middle;\n",
       "    }\n",
       "\n",
       "    .dataframe tbody tr th {\n",
       "        vertical-align: top;\n",
       "    }\n",
       "\n",
       "    .dataframe thead th {\n",
       "        text-align: right;\n",
       "    }\n",
       "</style>\n",
       "<table border=\"1\" class=\"dataframe\">\n",
       "  <thead>\n",
       "    <tr style=\"text-align: right;\">\n",
       "      <th></th>\n",
       "      <th>title</th>\n",
       "      <th>selftext</th>\n",
       "      <th>subreddit</th>\n",
       "      <th>created_utc</th>\n",
       "      <th>author</th>\n",
       "      <th>num_comments</th>\n",
       "      <th>score</th>\n",
       "      <th>is_self</th>\n",
       "      <th>timestamp</th>\n",
       "    </tr>\n",
       "  </thead>\n",
       "  <tbody>\n",
       "  </tbody>\n",
       "</table>\n",
       "</div>"
      ],
      "text/plain": [
       "Empty DataFrame\n",
       "Columns: [title, selftext, subreddit, created_utc, author, num_comments, score, is_self, timestamp]\n",
       "Index: []"
      ]
     },
     "execution_count": 15,
     "metadata": {},
     "output_type": "execute_result"
    }
   ],
   "source": [
    "data[data['is_self'] != True]"
   ]
  },
  {
   "cell_type": "code",
   "execution_count": 16,
   "metadata": {},
   "outputs": [],
   "source": [
    "data['subreddit'] = data['subreddit'].map({'roosterteeth': 0, 'TwoBestFriendsPlay': 1})"
   ]
  },
  {
   "cell_type": "code",
   "execution_count": 17,
   "metadata": {},
   "outputs": [
    {
     "data": {
      "text/plain": [
       "0    1210\n",
       "1    1162\n",
       "Name: subreddit, dtype: int64"
      ]
     },
     "execution_count": 17,
     "metadata": {},
     "output_type": "execute_result"
    }
   ],
   "source": [
    "data['subreddit'].value_counts()"
   ]
  },
  {
   "cell_type": "code",
   "execution_count": 18,
   "metadata": {},
   "outputs": [
    {
     "data": {
      "text/html": [
       "<div>\n",
       "<style scoped>\n",
       "    .dataframe tbody tr th:only-of-type {\n",
       "        vertical-align: middle;\n",
       "    }\n",
       "\n",
       "    .dataframe tbody tr th {\n",
       "        vertical-align: top;\n",
       "    }\n",
       "\n",
       "    .dataframe thead th {\n",
       "        text-align: right;\n",
       "    }\n",
       "</style>\n",
       "<table border=\"1\" class=\"dataframe\">\n",
       "  <thead>\n",
       "    <tr style=\"text-align: right;\">\n",
       "      <th></th>\n",
       "      <th>title</th>\n",
       "      <th>selftext</th>\n",
       "      <th>subreddit</th>\n",
       "      <th>created_utc</th>\n",
       "      <th>author</th>\n",
       "      <th>num_comments</th>\n",
       "      <th>score</th>\n",
       "      <th>is_self</th>\n",
       "      <th>timestamp</th>\n",
       "    </tr>\n",
       "  </thead>\n",
       "  <tbody>\n",
       "    <tr>\n",
       "      <th>490</th>\n",
       "      <td>Thought I saw a RWBY reference in Doctor Sleep...</td>\n",
       "      <td>Got to see Doctor Sleep last night and may hav...</td>\n",
       "      <td>0</td>\n",
       "      <td>1572551927</td>\n",
       "      <td>rabidstu3</td>\n",
       "      <td>6</td>\n",
       "      <td>3</td>\n",
       "      <td>True</td>\n",
       "      <td>2019-10-31</td>\n",
       "    </tr>\n",
       "    <tr>\n",
       "      <th>492</th>\n",
       "      <td>Is there any way to find out who's in a specif...</td>\n",
       "      <td>[removed]</td>\n",
       "      <td>0</td>\n",
       "      <td>1572555130</td>\n",
       "      <td>gditbarb</td>\n",
       "      <td>0</td>\n",
       "      <td>1</td>\n",
       "      <td>True</td>\n",
       "      <td>2019-10-31</td>\n",
       "    </tr>\n",
       "    <tr>\n",
       "      <th>495</th>\n",
       "      <td>I speculate that #Teamtrees and all the donati...</td>\n",
       "      <td>These are just my thoughts and I truly hope I ...</td>\n",
       "      <td>0</td>\n",
       "      <td>1572558705</td>\n",
       "      <td>TrapCardLol</td>\n",
       "      <td>10</td>\n",
       "      <td>0</td>\n",
       "      <td>True</td>\n",
       "      <td>2019-10-31</td>\n",
       "    </tr>\n",
       "    <tr>\n",
       "      <th>498</th>\n",
       "      <td>[No Spoliers] RWBY Posters in Doctor Sleep</td>\n",
       "      <td>Just saw Doctor Sleep. No spoilers, thought it...</td>\n",
       "      <td>0</td>\n",
       "      <td>1572565161</td>\n",
       "      <td>octopus-god</td>\n",
       "      <td>5</td>\n",
       "      <td>12</td>\n",
       "      <td>True</td>\n",
       "      <td>2019-10-31</td>\n",
       "    </tr>\n",
       "    <tr>\n",
       "      <th>499</th>\n",
       "      <td>Man of Medan</td>\n",
       "      <td>Hey rooster teeth, are you planning on doing m...</td>\n",
       "      <td>0</td>\n",
       "      <td>1572565441</td>\n",
       "      <td>jo3keelo</td>\n",
       "      <td>17</td>\n",
       "      <td>43</td>\n",
       "      <td>True</td>\n",
       "      <td>2019-10-31</td>\n",
       "    </tr>\n",
       "  </tbody>\n",
       "</table>\n",
       "</div>"
      ],
      "text/plain": [
       "                                                 title  \\\n",
       "490  Thought I saw a RWBY reference in Doctor Sleep...   \n",
       "492  Is there any way to find out who's in a specif...   \n",
       "495  I speculate that #Teamtrees and all the donati...   \n",
       "498         [No Spoliers] RWBY Posters in Doctor Sleep   \n",
       "499                                       Man of Medan   \n",
       "\n",
       "                                              selftext  subreddit  \\\n",
       "490  Got to see Doctor Sleep last night and may hav...          0   \n",
       "492                                          [removed]          0   \n",
       "495  These are just my thoughts and I truly hope I ...          0   \n",
       "498  Just saw Doctor Sleep. No spoilers, thought it...          0   \n",
       "499  Hey rooster teeth, are you planning on doing m...          0   \n",
       "\n",
       "     created_utc       author  num_comments  score  is_self   timestamp  \n",
       "490   1572551927    rabidstu3             6      3     True  2019-10-31  \n",
       "492   1572555130     gditbarb             0      1     True  2019-10-31  \n",
       "495   1572558705  TrapCardLol            10      0     True  2019-10-31  \n",
       "498   1572565161  octopus-god             5     12     True  2019-10-31  \n",
       "499   1572565441     jo3keelo            17     43     True  2019-10-31  "
      ]
     },
     "execution_count": 18,
     "metadata": {},
     "output_type": "execute_result"
    }
   ],
   "source": [
    "data.tail()"
   ]
  },
  {
   "cell_type": "code",
   "execution_count": 20,
   "metadata": {},
   "outputs": [],
   "source": [
    "data.to_csv('subreddit_data')"
   ]
  }
 ],
 "metadata": {
  "kernelspec": {
   "display_name": "Python 3",
   "language": "python",
   "name": "python3"
  },
  "language_info": {
   "codemirror_mode": {
    "name": "ipython",
    "version": 3
   },
   "file_extension": ".py",
   "mimetype": "text/x-python",
   "name": "python",
   "nbconvert_exporter": "python",
   "pygments_lexer": "ipython3",
   "version": "3.7.4"
  }
 },
 "nbformat": 4,
 "nbformat_minor": 2
}
